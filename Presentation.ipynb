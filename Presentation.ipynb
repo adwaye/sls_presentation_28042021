{
 "cells": [
  {
   "cell_type": "markdown",
   "id": "64959f5a",
   "metadata": {
    "slideshow": {
     "slide_type": "slide"
    }
   },
   "source": [
    "# Deep learning: A practical introduction to <img src=\"images/tf.png\" width=\"600\" height=\"300\"> and graph based computations\n",
    "\n"
   ]
  },
  {
   "cell_type": "markdown",
   "id": "283f7a6e",
   "metadata": {
    "slideshow": {
     "slide_type": "slide"
    }
   },
   "source": [
    "## Machine Learning Basics\n",
    "\n",
    "Data $X \\in \\mathbb{R}^{N\\times P}$ <br>\n",
    "Model $\\mathcal{M}$ with parameters $\\Theta$ <br>\n"
   ]
  },
  {
   "cell_type": "markdown",
   "id": "f055a42e",
   "metadata": {
    "slideshow": {
     "slide_type": "fragment"
    }
   },
   "source": [
    "(Sometimes) Labels $\\hat{Y} \\in \\mathbb{R}^{N\\times Q}$ <br>\n",
    "Then $\\mathcal{M}(X)\\approx \\hat{Y} $"
   ]
  },
  {
   "cell_type": "markdown",
   "id": "0aba3590",
   "metadata": {
    "slideshow": {
     "slide_type": "slide"
    }
   },
   "source": [
    "## Model Fitting\n",
    "\n",
    "Rule of thumb <img src=\"images/le_pouce.jpg\" width=\"400\" height=\"200\">: \n",
    "Define a loss function $\\mathcal{L}$ and minimise it!"
   ]
  },
  {
   "cell_type": "markdown",
   "id": "181393f0",
   "metadata": {
    "slideshow": {
     "slide_type": "slide"
    }
   },
   "source": [
    "Example: $\\mathcal{M}$ Gaussian with mean $\\mu$, s.d. $\\sigma$\n",
    "\n",
    "Loss function comes from the neg-likelihood: <br>\n",
    "\n",
    "$\\mathcal{L}(\\mu,\\sigma) =  \\sum_{n=0}^{N-1} \\frac{1}{2\\sigma^2}(x_n-\\mu)^2+\\frac{1}{2}\\log(2\\pi \\sigma)$ <br>"
   ]
  },
  {
   "cell_type": "markdown",
   "id": "3355bfc1",
   "metadata": {
    "slideshow": {
     "slide_type": "fragment"
    }
   },
   "source": [
    "Example: $\\mathcal{M}$ CNN classifier: \n",
    "\n",
    "Loss function comes from the cross entropy: <br>\n",
    "\n",
    "$\\mathcal{L}(\\Theta) =  \\frac{1}{N}\\sum_{n=0}^{N-1} \\sum_{k=0}^{K-1} \\mathbb{1}_{x_n \\in k} log(p_k)  $ <br>\n",
    "\n",
    "$y_n = [p_0,...,p_{K-1}]$ depends on a huge number of parameters around $10^6$! \n"
   ]
  },
  {
   "cell_type": "markdown",
   "id": "ddfe07c8",
   "metadata": {
    "slideshow": {
     "slide_type": "slide"
    }
   },
   "source": [
    "### (Much of) Machine Learning is all about minimising loss functions!"
   ]
  },
  {
   "cell_type": "markdown",
   "id": "897184c4",
   "metadata": {
    "slideshow": {
     "slide_type": "fragment"
    }
   },
   "source": [
    "In imaging, dimension of image $P\\approx 10\\times 10$, number of images $N \\approx 10^3$\n",
    "\n",
    "The most used method is gradient descent with batching aka Stochastic Gradient Descent aka SGD"
   ]
  },
  {
   "cell_type": "markdown",
   "id": "304b3bab",
   "metadata": {
    "slideshow": {
     "slide_type": "slide"
    }
   },
   "source": [
    "Given a dataset $X$, model $\\mathcal{M}$, with loss function $\\mathcal{L}$, 1 step of SGD:<br> \n",
    "\n",
    "\n",
    "$\\Theta_{t} = \\Theta_{t-1}-\\eta \\nabla_{\\Theta} \\mathcal{L}(\\Theta_{t-1}; X_{t-1})$ <br>\n",
    "\n",
    "\n"
   ]
  },
  {
   "cell_type": "markdown",
   "id": "591daf3e",
   "metadata": {
    "slideshow": {
     "slide_type": "fragment"
    }
   },
   "source": [
    "$\\nabla_{\\Theta} \\mathcal{L}(\\Theta_{t-1}; X_{t-1})$ evaluated random subset of the data (batch) <br>\n",
    "\n",
    "$\\eta$ is often called the learning rate\n"
   ]
  },
  {
   "cell_type": "markdown",
   "id": "fc28dc5c",
   "metadata": {
    "slideshow": {
     "slide_type": "slide"
    }
   },
   "source": [
    "## The typical deep learning model\n",
    "A NN with L layers: <br>\n",
    "$\\mathcal{M}(x) = \\phi_L \\circ T_L \\circ \\phi_{L-1}\\circ T_{L-1} \\circ ..... \\circ \\phi_1 \\circ T_1 (x)$ <br>\n",
    "\n",
    "$T_l$ are affine transformations, parameters are weights $w_l$ and biases $b_l$ <br>\n",
    "$\\phi_l$ are activation functions\n",
    "\n",
    "\n"
   ]
  },
  {
   "cell_type": "markdown",
   "id": "d3a9fe53",
   "metadata": {
    "slideshow": {
     "slide_type": "slide"
    }
   },
   "source": [
    "## Numerical optimisation requirements\n",
    "<ol>\n",
    "<li>Chain-rule for gradients</li>\n",
    "<li>Batching data</li>\n",
    "<li>Efficient at running computations</li>\n",
    "</ol>\n",
    "\n",
    "\n",
    "\n"
   ]
  },
  {
   "cell_type": "markdown",
   "id": "bbf4531c",
   "metadata": {
    "slideshow": {
     "slide_type": "fragment"
    }
   },
   "source": [
    "\n",
    "<center>\n",
    "<img src=\"images/tf.png\" width=\"600\" height=\"300\">\n",
    "</center>"
   ]
  },
  {
   "cell_type": "code",
   "execution_count": 7,
   "id": "9c254cf1",
   "metadata": {},
   "outputs": [],
   "source": [
    "# import tensorflow as tf\n",
    "try:\n",
    "    in_colab = False\n",
    "    import google.colab\n",
    "    in_colab = True\n",
    "except:\n",
    "    pass\n",
    "\n",
    "#if using tf2:\n",
    "import tensorflow as tf2\n",
    "tf2.compat.v1.disable_eager_execution\n",
    "import tensorflow.compat.v1 as tf"
   ]
  },
  {
   "cell_type": "markdown",
   "id": "a676ccc0",
   "metadata": {
    "slideshow": {
     "slide_type": "slide"
    }
   },
   "source": [
    "## Normal computations\n",
    "Perform the operation directly on the variables"
   ]
  },
  {
   "cell_type": "code",
   "execution_count": 1,
   "id": "1912c827",
   "metadata": {
    "slideshow": {
     "slide_type": "fragment"
    }
   },
   "outputs": [
    {
     "name": "stdout",
     "output_type": "stream",
     "text": [
      "In numpy:\n",
      "a =  [1. 2. 3.]\n",
      "a =  [2. 2. 2.]\n",
      "a + b =  [3. 4. 5.]\n",
      "a ** b =  [1. 4. 9.]\n",
      "c = (a + b) * (a ** b) =  [ 3. 16. 45.]\n"
     ]
    }
   ],
   "source": [
    "import numpy as np\n",
    "a = np.array([1.0, 2.0, 3.0])\n",
    "\n",
    "b = np.array([2.0, 2.0, 2.0])\n",
    "\n",
    "a_plus_b = a + b\n",
    "\n",
    "a_power_b = a ** b\n",
    "\n",
    "c = a_plus_b * a_power_b\n",
    "\n",
    "print('In numpy:')\n",
    "print('a = ', a)\n",
    "print('a = ', b)\n",
    "print('a + b = ', a_plus_b)\n",
    "print('a ** b = ', a_power_b)\n",
    "print('c = (a + b) * (a ** b) = ', c)"
   ]
  },
  {
   "cell_type": "markdown",
   "id": "d483bd28",
   "metadata": {
    "slideshow": {
     "slide_type": "slide"
    }
   },
   "source": [
    "## Graph-based computations\n",
    "Define operations between variables"
   ]
  },
  {
   "cell_type": "code",
   "execution_count": 5,
   "id": "7a06cd18",
   "metadata": {
    "slideshow": {
     "slide_type": "fragment"
    }
   },
   "outputs": [
    {
     "name": "stdout",
     "output_type": "stream",
     "text": [
      "In tensorflow:\n",
      "a =  Tensor(\"a:0\", shape=(3,), dtype=float64)\n",
      "a =  Tensor(\"b:0\", shape=(3,), dtype=float64)\n",
      "a + b =  Tensor(\"add:0\", shape=(3,), dtype=float64)\n",
      "a ** b =  Tensor(\"pow:0\", shape=(3,), dtype=float64)\n",
      "c = (a + b) * (a ** b) =  Tensor(\"mul:0\", shape=(3,), dtype=float64)\n"
     ]
    }
   ],
   "source": [
    "# Reset tensorflow!\n",
    "tf.reset_default_graph()\n",
    "\n",
    "t_a = tf.constant(a, name='a')\n",
    "\n",
    "t_b = tf.constant(b, name='b')\n",
    "\n",
    "t_a_plus_b = t_a + t_b\n",
    "\n",
    "t_a_power_b = t_a ** t_b\n",
    "\n",
    "t_c = t_a_plus_b * t_a_power_b\n",
    "\n",
    "print('In tensorflow:')\n",
    "print('a = ', t_a)\n",
    "print('a = ', t_b)\n",
    "print('a + b = ', t_a_plus_b)\n",
    "print('a ** b = ', t_a_power_b)\n",
    "print('c = (a + b) * (a ** b) = ', t_c)"
   ]
  },
  {
   "cell_type": "markdown",
   "id": "b0378886",
   "metadata": {
    "slideshow": {
     "slide_type": "fragment"
    }
   },
   "source": [
    "## <a href=\"http://localhost:6006/\">The graph</a>"
   ]
  },
  {
   "cell_type": "code",
   "execution_count": 10,
   "id": "ed973adc",
   "metadata": {
    "slideshow": {
     "slide_type": "skip"
    }
   },
   "outputs": [
    {
     "name": "stdout",
     "output_type": "stream",
     "text": [
      "The tensorboard module is not an IPython extension.\n"
     ]
    },
    {
     "name": "stderr",
     "output_type": "stream",
     "text": [
      "UsageError: Line magic function `%tensorboard` not found.\n"
     ]
    }
   ],
   "source": [
    "\n",
    "with tf.Session() as session:\n",
    "    if in_colab:\n",
    "        tbc = TensorBoardColab()\n",
    "        summary_file_writer = tbc.get_writer()\n",
    "        summary_file_writer.add_graph(session.graph)\n",
    "        summary_file_writer.flush()\n",
    "        tbc.close()\n",
    "    else:\n",
    "        summary_file_writer = tf.summary.FileWriter(\n",
    "            'visualisation_files', session.graph)\n",
    "        summary_file_writer.flush()\n"
   ]
  },
  {
   "cell_type": "code",
   "execution_count": 9,
   "id": "8121e8aa",
   "metadata": {
    "slideshow": {
     "slide_type": "fragment"
    }
   },
   "outputs": [],
   "source": [
    "with tf.Session() as sess:\n",
    "    sess.run(tf.global_variables_initializer())\n",
    "    my_cnst_eval,my_var_eval = sess.run([t_my_cnst,t_my_var])"
   ]
  }
 ],
 "metadata": {
  "celltoolbar": "Slideshow",
  "kernelspec": {
   "display_name": "Python 3",
   "language": "python",
   "name": "python3"
  },
  "language_info": {
   "codemirror_mode": {
    "name": "ipython",
    "version": 3
   },
   "file_extension": ".py",
   "mimetype": "text/x-python",
   "name": "python",
   "nbconvert_exporter": "python",
   "pygments_lexer": "ipython3",
   "version": "3.6.13"
  }
 },
 "nbformat": 4,
 "nbformat_minor": 5
}
